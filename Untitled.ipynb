{
 "cells": [
  {
   "cell_type": "markdown",
   "id": "57ae0a8e",
   "metadata": {},
   "source": [
    "# Homework 1: Gradient Descent and Convexity\n",
    "By Fernando Isaías Leal Sánchez"
   ]
  },
  {
   "cell_type": "markdown",
   "id": "101571d4",
   "metadata": {},
   "source": [
    "### Initial definitions"
   ]
  },
  {
   "cell_type": "markdown",
   "id": "bbf53920",
   "metadata": {},
   "source": [
    " 1. $\\sigma(z) = \\frac{1}{1+e^{-z}} \\label{1}$\n",
    " 2. $\\Pr(y_i \\mid x_i, \\theta) = \\sigma(\\left<x_i,x\\right> + b)^{y_i}\\sigma(-\\left<x_i,x\\right> - b)^{1-y_i} \\label{2}$\n",
    " 3. $\\ell(\\theta)=\\prod_{i=1}^{m}\\Pr(y_i\\mid x_i,\\theta) \\label{3}$\n",
    " 4. $f(\\theta) = -\\log(\\ell(\\theta)) \\label{4}$\n",
    " 5. $\\tilde{x}_i = (x_i,1)$, a concatenation"
   ]
  },
  {
   "cell_type": "markdown",
   "id": "da95f856",
   "metadata": {},
   "source": [
    "###  Question 1"
   ]
  },
  {
   "cell_type": "markdown",
   "id": "8c50e3fe",
   "metadata": {},
   "source": [
    "> Verify that\n",
    "> $$\n",
    "f(\\theta) = \n",
    "\\sum_{i=1}^{m}y_i\\log(1+e^{-\\left<\\tilde{x}_i,\\theta\\right>}) + (1-y_i)\\log(1+e^{\\left<\\tilde{x}_i, \\theta\\right>})\n",
    "$$"
   ]
  },
  {
   "cell_type": "markdown",
   "id": "db678b6e",
   "metadata": {},
   "source": [
    "$$\n",
    "\\begin{align}\n",
    "f(\\theta) &= -\\log(\\ell(\\theta)) =\\\\\n",
    "&= -\\log\\left(\\prod_{i=1}^{m}\\Pr(y_i\\mid x_i,\\theta)\\right) =\\\\\n",
    "&= -\\log\\left(\\prod_{i=1}^{m}\\sigma(\\left<\\tilde{x}_i,\\theta\\right>)^{y_i}\\sigma(-\\left<\\tilde{x}_i,\\theta\\right>)^{1-y_i}\\right) =\\\\\n",
    "&= -\\sum_{i=1}^{m}\\log\\left(\\sigma(\\left<\\tilde{x}_i,\\theta\\right>)^{y_i}\\sigma(-\\left<\\tilde{x}_i,\\theta\\right>)^{1-y_i}\\right) =\\\\\n",
    "&=-\\sum_{i=1}^{m}y_i\\log\\left(\\sigma(\\left<\\tilde{x}_i,\\theta\\right>)\\right) + (1-y_i)\\log\\left(\\sigma(-\\left<\\tilde{x}_i,\\theta\\right>)\\right) =\\\\\n",
    "&=-\\sum_{i=1}^{m}y_i\\log\\left((1+e^{\\left<\\tilde{x}_i,\\theta\\right>})^{-1}\\right) + (1-y_i)\\log\\left((1+e^{-\\left<\\tilde{x}_i,\\theta\\right>})^{-1}\\right) =\\\\\n",
    "&= -\\sum_{i=1}^{m}-y_i\\log\\left(1+e^{\\left<\\tilde{x}_i,\\theta\\right>}\\right) - (1-y_i)\\log\\left(1+e^{-\\left<\\tilde{x}_i,\\theta\\right>}\\right) =\\\\\n",
    "&=\\ \\;\\sum_{i=1}^{m}y_i\\log\\left(1+e^{\\left<\\tilde{x}_i,\\theta\\right>}\\right) + (1-y_i)\\log\\left(1+e^{-\\left<\\tilde{x}_i,\\theta\\right>}\\right) =\\\\\n",
    "\\end{align}\n",
    "$$"
   ]
  },
  {
   "cell_type": "markdown",
   "id": "cdc3ef6b",
   "metadata": {},
   "source": [
    "###  Question 2"
   ]
  },
  {
   "cell_type": "markdown",
   "id": "40df97a9",
   "metadata": {},
   "source": [
    "> Show that $z\\mapsto \\log(1+e^z)$ is convex"
   ]
  },
  {
   "cell_type": "markdown",
   "id": "bec77f0b",
   "metadata": {},
   "source": [
    "Let $g(z) := \\log(1 + e^z)$, then $g'(z) = \\frac{e^z}{1+e^z}$ and $g''(z) = \\frac{e^z(1+e^z) - e^z(e^z)}{(1+e^z)^2} = \\frac{e^z}{(1+e^z)^2}$, for which we see that $\\forall x\\in\\mathbb{R}, g''(z)\\ge0$, and therefore $g$ is convex. "
   ]
  },
  {
   "cell_type": "markdown",
   "id": "b32195e6",
   "metadata": {},
   "source": [
    "###  Question 3"
   ]
  },
  {
   "cell_type": "markdown",
   "id": "2247439f",
   "metadata": {},
   "source": [
    "> Show that $f$ is convex"
   ]
  },
  {
   "cell_type": "markdown",
   "id": "8797c2ca",
   "metadata": {},
   "source": [
    "###  Question 4"
   ]
  },
  {
   "cell_type": "markdown",
   "id": "c6c2d012",
   "metadata": {},
   "source": [
    "> Show that $f_\\lambda(\\theta) := f(\\theta) + \\frac{\\lambda}{2}\\lVert \\theta \\rVert^2$ is strongly convex"
   ]
  },
  {
   "cell_type": "markdown",
   "id": "65a0886e",
   "metadata": {},
   "source": [
    "###  Question 5"
   ]
  },
  {
   "cell_type": "markdown",
   "id": "2f066c6a",
   "metadata": {},
   "source": [
    "> With $\\lambda  > 0$ argue that $f_\\lambda$ has a single global minimum $\\theta \\in \\mathcal{E}$ for which $\\nabla f_\\lambda(\\theta) = 0$"
   ]
  },
  {
   "cell_type": "markdown",
   "id": "a03dc116",
   "metadata": {},
   "source": [
    "###  Question 6"
   ]
  },
  {
   "cell_type": "markdown",
   "id": "927a2b22",
   "metadata": {},
   "source": [
    "> Give an expression for $\\nabla f_\\lambda$"
   ]
  },
  {
   "cell_type": "markdown",
   "id": "67b56a63",
   "metadata": {},
   "source": [
    "###  Question 7"
   ]
  },
  {
   "cell_type": "markdown",
   "id": "fbb8fdac",
   "metadata": {},
   "source": [
    "> Implement a function `[f,g] = logistic_regression(train,  theta, lambda)` that takes as input the training data $\\theta\\in\\mathcal{E}$ and returns the  output value $f_\\lambda(\\theta)$ and the gradient $\\nabla f_\\lambda(\\theta)$ for some  fixed $\\lambda$"
   ]
  },
  {
   "cell_type": "markdown",
   "id": "eb693e53",
   "metadata": {},
   "source": [
    "###  Question 8"
   ]
  },
  {
   "cell_type": "markdown",
   "id": "5b2aeed6",
   "metadata": {},
   "source": [
    "> Check that your gradient code is correct by generating a random $\\theta$ nd $v$ and ploting the error $\\mid f_\\lambda(\\theta+tv)-f_\\lambda(\\theta) - t\\left<v,\\nabla f_\\lambda(\\theta)\\right>\\mid$ versus $t$ where `t = logspace(-8,0,101)`."
   ]
  },
  {
   "cell_type": "markdown",
   "id": "e0b3e916",
   "metadata": {},
   "source": [
    "###  Question 9"
   ]
  },
  {
   "cell_type": "markdown",
   "id": "2481e5cc",
   "metadata": {},
   "source": [
    "> What is the value of $\\frac{1}{4}\\sigma_{\\max}(X)^2$ for the training set?"
   ]
  },
  {
   "cell_type": "markdown",
   "id": "faac5fcd",
   "metadata": {},
   "source": [
    "###  Question 10"
   ]
  },
  {
   "cell_type": "code",
   "execution_count": 35,
   "id": "04f679f5",
   "metadata": {},
   "outputs": [
    {
     "name": "stdout",
     "output_type": "stream",
     "text": [
      "error: print: directory /tmp/tmpoaszrplp does not exist\r\n",
      "error: called from\r\n",
      "    _make_figures>safe_print at line 125 column 7\r\n",
      "    _make_figures at line 49 column 13\r\n"
     ]
    }
   ],
   "source": [
    "x = 1:.1:10;\n",
    "plot(x,sin(x))\n",
    "% plot(x,cos(x))\n",
    "% plot(x,1./(1.+exp(x))"
   ]
  },
  {
   "cell_type": "code",
   "execution_count": 37,
   "id": "b7832417",
   "metadata": {},
   "outputs": [
    {
     "name": "stderr",
     "output_type": "stream",
     "text": [
      "\u001b[0;31mInline plot failed, consider trying another graphics toolkit\n",
      "error: print: directory /tmp/tmp55fg6_ln does not exist\r\n",
      "error: called from\r\n",
      "    _make_figures>safe_print at line 125 column 7\r\n",
      "    _make_figures at line 49 column 13\r\n",
      "\n",
      "\u001b[0m"
     ]
    }
   ],
   "source": [
    "x)"
   ]
  },
  {
   "cell_type": "markdown",
   "id": "5f00ac99",
   "metadata": {},
   "source": [
    "###  Question 11"
   ]
  },
  {
   "cell_type": "markdown",
   "id": "9f5a585d",
   "metadata": {},
   "source": [
    "###  Question 12"
   ]
  },
  {
   "cell_type": "markdown",
   "id": "3613be74",
   "metadata": {},
   "source": [
    "###  Question 13"
   ]
  },
  {
   "cell_type": "markdown",
   "id": "7a604961",
   "metadata": {},
   "source": [
    "###  Question 14"
   ]
  },
  {
   "cell_type": "markdown",
   "id": "e379725a",
   "metadata": {},
   "source": [
    "###  Question 15"
   ]
  },
  {
   "cell_type": "markdown",
   "id": "efc83c2c",
   "metadata": {},
   "source": [
    "###  Question 16"
   ]
  }
 ],
 "metadata": {
  "kernelspec": {
   "display_name": "Octave",
   "language": "octave",
   "name": "octave"
  },
  "language_info": {
   "file_extension": ".m",
   "help_links": [
    {
     "text": "GNU Octave",
     "url": "https://www.gnu.org/software/octave/support.html"
    },
    {
     "text": "Octave Kernel",
     "url": "https://github.com/Calysto/octave_kernel"
    },
    {
     "text": "MetaKernel Magics",
     "url": "https://metakernel.readthedocs.io/en/latest/source/README.html"
    }
   ],
   "mimetype": "text/x-octave",
   "name": "octave",
   "version": "6.4.0"
  }
 },
 "nbformat": 4,
 "nbformat_minor": 5
}
