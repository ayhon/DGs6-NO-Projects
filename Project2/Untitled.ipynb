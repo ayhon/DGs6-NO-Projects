{
 "cells": [
  {
   "cell_type": "code",
   "execution_count": 71,
   "id": "633a98e9",
   "metadata": {},
   "outputs": [],
   "source": [
    "import sympy as sp\n",
    "sp.init_printing(use_latex=True)\n",
    "import numpy as np\n",
    "from matplotlib.pyplot import plot, loglog,legend\n",
    "from functools import cache\n",
    "def a(*args):\n",
    "    return np.array(args)"
   ]
  },
  {
   "cell_type": "code",
   "execution_count": 2,
   "id": "66785f69",
   "metadata": {},
   "outputs": [],
   "source": [
    "P = np.array([\n",
    "    [1/2,1/2],\n",
    "    [1/2,-1/2],\n",
    "    [-1/2,1/2],\n",
    "    [-1/2,1/2]\n",
    "])\n",
    "y = np.array([\n",
    "    [1/2,  0],\n",
    "    [-1/2, 0]\n",
    "])\n",
    "n = 2"
   ]
  },
  {
   "cell_type": "markdown",
   "id": "f0fd4f6f",
   "metadata": {},
   "source": [
    "### Functions"
   ]
  },
  {
   "cell_type": "code",
   "execution_count": 13,
   "id": "9cce59d3",
   "metadata": {},
   "outputs": [],
   "source": [
    "sigma = .1\n",
    "@np.vectorize\n",
    "def h(x: np.ndarray):\n",
    "    return np.exp(-np.linalg.norm(x)**2/(sigma**2))\n",
    "def phi_(P: np.ndarray):\n",
    "    return np.vectorize(lambda x : h(P-x))\n",
    "phi = phi_(P)\n",
    "def Phi_(P: np.ndarray):\n",
    "    return np.vectorize(lambda X : sum(phi_(P)(X)))\n",
    "Phi = Phi_(P) \n",
    "def f_(P: np.ndarray, y: np.ndarray):\n",
    "    return np.vectorize(lambda X : np.linalg.norm(Phi_(P)(X) - y)**2 / 2)\n",
    "f = f_(P,y)"
   ]
  },
  {
   "cell_type": "markdown",
   "id": "7bd35bfc",
   "metadata": {},
   "source": [
    "### Derivatives"
   ]
  },
  {
   "cell_type": "code",
   "execution_count": 14,
   "id": "ccbeae3e",
   "metadata": {},
   "outputs": [],
   "source": [
    "@np.vectorize\n",
    "def D_h(x: np.ndarray):\n",
    "    return -2/sigma**2*h(x)*x"
   ]
  },
  {
   "cell_type": "code",
   "execution_count": 68,
   "id": "002358ec",
   "metadata": {},
   "outputs": [],
   "source": [
    "def checkgradient(f,g,x0,v):\n",
    "    ts = np.logspace(8,0,num=101)\n",
    "    fx = f(x0)\n",
    "    gx = g(x0)\n",
    "    errs = [abs(f(x0 + t*v) - f(x0) - g(x0)*t) for t in ts]\n",
    "    \n",
    "    loglog(ts,errs, label=\"errors\")\n",
    "    loglog(ts,ts**2,label=\"parabola\")\n",
    "    legend()"
   ]
  },
  {
   "cell_type": "code",
   "execution_count": 73,
   "id": "99a29b9e",
   "metadata": {},
   "outputs": [
    {
     "data": {
      "image/png": "[encoded data removed]",
      "text/plain": [
       "<Figure size 432x288 with 1 Axes>"
      ]
     },
     "metadata": {
      "needs_background": "light"
     },
     "output_type": "display_data"
    }
   ],
   "source": [
    "checkgradient(h,D_h,a(-1,-1),a(10,10))"
   ]
  },
  {
   "cell_type": "code",
   "execution_count": null,
   "id": "8b4aeb9d",
   "metadata": {},
   "outputs": [],
   "source": []
  }
 ],
 "metadata": {
  "kernelspec": {
   "display_name": "Python 3 (ipykernel)",
   "language": "python",
   "name": "python3"
  },
  "language_info": {
   "codemirror_mode": {
    "name": "ipython",
    "version": 3
   },
   "file_extension": ".py",
   "mimetype": "text/x-python",
   "name": "python",
   "nbconvert_exporter": "python",
   "pygments_lexer": "ipython3",
   "version": "3.9.5"
  }
 },
 "nbformat": 4,
 "nbformat_minor": 5
}
